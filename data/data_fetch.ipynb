{
 "cells": [
  {
   "cell_type": "markdown",
   "metadata": {},
   "source": [
    "# Dataset construction\n",
    "\n",
    "- Download CSV data for selected tickers.\n",
    "- Rename columns.\n",
    "- Concatenate all downloads into single dataframe."
   ]
  },
  {
   "cell_type": "code",
   "execution_count": 35,
   "metadata": {},
   "outputs": [],
   "source": [
    "import urllib.request\n",
    "import pandas as pd\n",
    "import pickle\n",
    "import io\n",
    "import tempfile"
   ]
  },
  {
   "cell_type": "code",
   "execution_count": 36,
   "metadata": {},
   "outputs": [],
   "source": [
    "def build_url(ticker: str) -> str:\n",
    "    \"\"\"Build an URL for CSV data download for given stock ticker.\n",
    "    \n",
    "    Args:\n",
    "        ticker: Stock ticker in format used by stooq.pl provider.\n",
    "\n",
    "    Returns:\n",
    "        URL to download CSV data for given stock ticker.\n",
    "    \"\"\"\n",
    "    return f\"https://stooq.pl/q/d/l/?s={ticker}&i=d\""
   ]
  },
  {
   "cell_type": "code",
   "execution_count": 45,
   "metadata": {},
   "outputs": [],
   "source": [
    "def get_data(ticker: str) -> pd.DataFrame:\n",
    "    \"\"\"Download CSV data for given stock ticker.\n",
    "    \n",
    "    Args:\n",
    "        ticker: Stock ticker in format used by stooq.pl provider.\n",
    "\n",
    "    Returns:\n",
    "        DataFrame with stock data & columns in OHLCV format.\n",
    "    \"\"\"\n",
    "    with tempfile.NamedTemporaryFile(delete_on_close=True) as tmp:\n",
    "        url = build_url(ticker)\n",
    "        with urllib.request.urlopen(url) as response:\n",
    "            tmp.write(response.read())\n",
    "            tmp.seek(0)\n",
    "            data = pd.read_csv(tmp, index_col=\"Data\", parse_dates=True)\n",
    "        _map = {\n",
    "            \"otwarcie\": \"open\",\n",
    "            \"najwyzszy\": \"high\",\n",
    "            \"najnizszy\": \"low\",\n",
    "            \"zamkniecie\": \"close\",\n",
    "            \"wolumen\": \"volume\",\n",
    "            \"najwyższy\": \"high\",\n",
    "            \"najniższy\": \"low\",\n",
    "        }\n",
    "        data.columns = [_map[col.lower()] for col in data.columns]\n",
    "        data.index.name = \"date\"\n",
    "    return data"
   ]
  },
  {
   "cell_type": "code",
   "execution_count": 48,
   "metadata": {},
   "outputs": [],
   "source": [
    "tickers = {\n",
    "    \"wig20\": \"wig20\",\n",
    "    \"usdpln\": \"usdpln\",\n",
    "    \"10y\": \"10yply.b\",\n",
    "    \"spx\": \"^spx\",\n",
    "    \"dax\": \"^dax\",\n",
    "    \"swig80\": \"swig80\",\n",
    "}"
   ]
  },
  {
   "cell_type": "code",
   "execution_count": 54,
   "metadata": {},
   "outputs": [],
   "source": [
    "raw_downloads = {ticker: get_data(handle) for ticker, handle in tickers.items()}"
   ]
  },
  {
   "cell_type": "code",
   "execution_count": 60,
   "metadata": {},
   "outputs": [],
   "source": [
    "# clip dates to <= 2024-10-31\n",
    "\n",
    "raw_downloads = {ticker: data.loc[:\"2024-10-31\"] for ticker, data in raw_downloads.items()}"
   ]
  },
  {
   "cell_type": "code",
   "execution_count": 67,
   "metadata": {},
   "outputs": [
    {
     "name": "stdout",
     "output_type": "stream",
     "text": [
      "data clipped to 1999-05-25 00:00:00\n"
     ]
    }
   ],
   "source": [
    "# clip dates to >= minimum date across all dataframes\n",
    "\n",
    "min_date = max(data.index.min() for data in raw_downloads.values())\n",
    "raw_downloads = {ticker: data.loc[min_date:] for ticker, data in raw_downloads.items()}\n",
    "\n",
    "print(f\"data clipped to {min_date}\")"
   ]
  },
  {
   "cell_type": "code",
   "execution_count": 68,
   "metadata": {},
   "outputs": [],
   "source": [
    "# rename columns before concatenating\n",
    "for ticker, df in raw_downloads.items():\n",
    "    df.columns = [f\"{ticker}_{col}\" for col in df.columns]\n",
    "\n",
    "# concat\n",
    "df = pd.concat(raw_downloads.values(), axis=1)"
   ]
  },
  {
   "cell_type": "code",
   "execution_count": 69,
   "metadata": {},
   "outputs": [
    {
     "data": {
      "text/html": [
       "<div>\n",
       "<style scoped>\n",
       "    .dataframe tbody tr th:only-of-type {\n",
       "        vertical-align: middle;\n",
       "    }\n",
       "\n",
       "    .dataframe tbody tr th {\n",
       "        vertical-align: top;\n",
       "    }\n",
       "\n",
       "    .dataframe thead th {\n",
       "        text-align: right;\n",
       "    }\n",
       "</style>\n",
       "<table border=\"1\" class=\"dataframe\">\n",
       "  <thead>\n",
       "    <tr style=\"text-align: right;\">\n",
       "      <th></th>\n",
       "      <th>wig20_open</th>\n",
       "      <th>wig20_high</th>\n",
       "      <th>wig20_low</th>\n",
       "      <th>wig20_close</th>\n",
       "      <th>wig20_volume</th>\n",
       "      <th>usdpln_open</th>\n",
       "      <th>usdpln_high</th>\n",
       "      <th>usdpln_low</th>\n",
       "      <th>usdpln_close</th>\n",
       "      <th>10y_open</th>\n",
       "      <th>...</th>\n",
       "      <th>dax_open</th>\n",
       "      <th>dax_high</th>\n",
       "      <th>dax_low</th>\n",
       "      <th>dax_close</th>\n",
       "      <th>dax_volume</th>\n",
       "      <th>swig80_open</th>\n",
       "      <th>swig80_high</th>\n",
       "      <th>swig80_low</th>\n",
       "      <th>swig80_close</th>\n",
       "      <th>swig80_volume</th>\n",
       "    </tr>\n",
       "    <tr>\n",
       "      <th>date</th>\n",
       "      <th></th>\n",
       "      <th></th>\n",
       "      <th></th>\n",
       "      <th></th>\n",
       "      <th></th>\n",
       "      <th></th>\n",
       "      <th></th>\n",
       "      <th></th>\n",
       "      <th></th>\n",
       "      <th></th>\n",
       "      <th></th>\n",
       "      <th></th>\n",
       "      <th></th>\n",
       "      <th></th>\n",
       "      <th></th>\n",
       "      <th></th>\n",
       "      <th></th>\n",
       "      <th></th>\n",
       "      <th></th>\n",
       "      <th></th>\n",
       "      <th></th>\n",
       "    </tr>\n",
       "  </thead>\n",
       "  <tbody>\n",
       "    <tr>\n",
       "      <th>1999-05-25</th>\n",
       "      <td>1489.7</td>\n",
       "      <td>1507.8</td>\n",
       "      <td>1487.9</td>\n",
       "      <td>1502.1</td>\n",
       "      <td>4640264.0</td>\n",
       "      <td>3.929</td>\n",
       "      <td>3.960</td>\n",
       "      <td>3.929</td>\n",
       "      <td>3.940</td>\n",
       "      <td>7.790</td>\n",
       "      <td>...</td>\n",
       "      <td>5213.79</td>\n",
       "      <td>5218.29</td>\n",
       "      <td>5136.76</td>\n",
       "      <td>5143.10</td>\n",
       "      <td>0.0</td>\n",
       "      <td>1845.3</td>\n",
       "      <td>1845.3</td>\n",
       "      <td>1845.3</td>\n",
       "      <td>1845.3</td>\n",
       "      <td>627241.0</td>\n",
       "    </tr>\n",
       "    <tr>\n",
       "      <th>1999-05-26</th>\n",
       "      <td>1500.3</td>\n",
       "      <td>1511.6</td>\n",
       "      <td>1500.3</td>\n",
       "      <td>1507.7</td>\n",
       "      <td>5787051.0</td>\n",
       "      <td>3.945</td>\n",
       "      <td>3.977</td>\n",
       "      <td>3.936</td>\n",
       "      <td>3.965</td>\n",
       "      <td>7.937</td>\n",
       "      <td>...</td>\n",
       "      <td>5118.58</td>\n",
       "      <td>5194.36</td>\n",
       "      <td>5110.38</td>\n",
       "      <td>5160.44</td>\n",
       "      <td>0.0</td>\n",
       "      <td>1847.3</td>\n",
       "      <td>1847.3</td>\n",
       "      <td>1847.3</td>\n",
       "      <td>1847.3</td>\n",
       "      <td>486379.0</td>\n",
       "    </tr>\n",
       "  </tbody>\n",
       "</table>\n",
       "<p>2 rows × 28 columns</p>\n",
       "</div>"
      ],
      "text/plain": [
       "            wig20_open  wig20_high  wig20_low  wig20_close  wig20_volume  \\\n",
       "date                                                                       \n",
       "1999-05-25      1489.7      1507.8     1487.9       1502.1     4640264.0   \n",
       "1999-05-26      1500.3      1511.6     1500.3       1507.7     5787051.0   \n",
       "\n",
       "            usdpln_open  usdpln_high  usdpln_low  usdpln_close  10y_open  ...  \\\n",
       "date                                                                      ...   \n",
       "1999-05-25        3.929        3.960       3.929         3.940     7.790  ...   \n",
       "1999-05-26        3.945        3.977       3.936         3.965     7.937  ...   \n",
       "\n",
       "            dax_open  dax_high  dax_low  dax_close  dax_volume  swig80_open  \\\n",
       "date                                                                          \n",
       "1999-05-25   5213.79   5218.29  5136.76    5143.10         0.0       1845.3   \n",
       "1999-05-26   5118.58   5194.36  5110.38    5160.44         0.0       1847.3   \n",
       "\n",
       "            swig80_high  swig80_low  swig80_close  swig80_volume  \n",
       "date                                                              \n",
       "1999-05-25       1845.3      1845.3        1845.3       627241.0  \n",
       "1999-05-26       1847.3      1847.3        1847.3       486379.0  \n",
       "\n",
       "[2 rows x 28 columns]"
      ]
     },
     "execution_count": 69,
     "metadata": {},
     "output_type": "execute_result"
    }
   ],
   "source": [
    "df.head(2)"
   ]
  },
  {
   "cell_type": "code",
   "execution_count": 70,
   "metadata": {},
   "outputs": [],
   "source": [
    "with open(\"raw_data.pkl\", \"wb\") as f:\n",
    "    pickle.dump(df, f)"
   ]
  }
 ],
 "metadata": {
  "kernelspec": {
   "display_name": ".venv",
   "language": "python",
   "name": "python3"
  },
  "language_info": {
   "codemirror_mode": {
    "name": "ipython",
    "version": 3
   },
   "file_extension": ".py",
   "mimetype": "text/x-python",
   "name": "python",
   "nbconvert_exporter": "python",
   "pygments_lexer": "ipython3",
   "version": "3.12.7"
  }
 },
 "nbformat": 4,
 "nbformat_minor": 2
}
