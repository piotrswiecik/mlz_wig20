{
 "cells": [
  {
   "cell_type": "markdown",
   "metadata": {},
   "source": [
    "# Dataset construction\n",
    "\n",
    "Download relevant data as CSV and pickle for later reuse."
   ]
  },
  {
   "cell_type": "code",
   "execution_count": 13,
   "metadata": {},
   "outputs": [],
   "source": [
    "import urllib.request\n",
    "import pandas as pd\n",
    "import pickle\n",
    "import io"
   ]
  },
  {
   "cell_type": "code",
   "execution_count": 14,
   "metadata": {},
   "outputs": [],
   "source": [
    "def build_url(ticker: str) -> str:\n",
    "    \"\"\"Build an URL for CSV data download for given stock ticker.\"\"\"\n",
    "    return f\"https://stooq.pl/q/d/l/?s={ticker}&i=d\"\n",
    "\n",
    "def get_csv(ticker: str) -> io.BytesIO:\n",
    "    \"\"\"Download CSV data for given stock ticker.\"\"\"\n",
    "    url = build_url(ticker)\n",
    "    with urllib.request.urlopen(url) as response:\n",
    "        data = response.read().decode(\"utf-8\")\n",
    "    return io.BytesIO(data.encode(\"utf-8\"))\n",
    "\n",
    "def parse_data(data: io.BytesIO) -> pd.DataFrame:\n",
    "    \"\"\"Parse CSV data into a pandas DataFrame.\"\"\"\n",
    "    df = pd.read_csv(data, index_col=\"Data\")\n",
    "    df.index.name = \"date\"\n",
    "    def _rename_col(col):\n",
    "        if col.lower() == \"otwarcie\":\n",
    "            return \"open\"\n",
    "        if col.lower() in [\"zamknięcie\", \"zamkniecie\"]:\n",
    "            return \"close\"\n",
    "        if col.lower() in [\"najwyższy\", \"najwyzszy\"]:\n",
    "            return \"high\"\n",
    "        if col.lower() in [\"najniższy\", \"najnizszy\"]:\n",
    "            return \"low\"\n",
    "        if col.lower() == \"wolumen\":\n",
    "            return \"volume\"\n",
    "        return col.lower()\n",
    "    df.columns = map(_rename_col, df.columns)\n",
    "    return df"
   ]
  },
  {
   "cell_type": "code",
   "execution_count": 15,
   "metadata": {},
   "outputs": [],
   "source": [
    "tickers = {\n",
    "    \"wig20\": \"wig20\",\n",
    "    \"usdpln\": \"usdpln\",\n",
    "    \"10y\": \"10yply.b\",\n",
    "    \"spx\": \"^spx\",\n",
    "    \"dax\": \"^dax\",\n",
    "    \"swig80\": \"swig80\",\n",
    "}"
   ]
  },
  {
   "cell_type": "code",
   "execution_count": 16,
   "metadata": {},
   "outputs": [],
   "source": [
    "data = dict()\n",
    "\n",
    "for ticker in tickers:\n",
    "    csv = get_csv(tickers[ticker])\n",
    "    df = parse_data(csv)\n",
    "    data[ticker] = df"
   ]
  },
  {
   "cell_type": "code",
   "execution_count": 17,
   "metadata": {},
   "outputs": [],
   "source": [
    "with open(\"raw_data.bin\", \"wb\") as f:\n",
    "    pickle.dump(data, f)"
   ]
  },
  {
   "cell_type": "code",
   "execution_count": null,
   "metadata": {},
   "outputs": [],
   "source": []
  }
 ],
 "metadata": {
  "kernelspec": {
   "display_name": ".venv",
   "language": "python",
   "name": "python3"
  },
  "language_info": {
   "codemirror_mode": {
    "name": "ipython",
    "version": 3
   },
   "file_extension": ".py",
   "mimetype": "text/x-python",
   "name": "python",
   "nbconvert_exporter": "python",
   "pygments_lexer": "ipython3",
   "version": "3.12.7"
  }
 },
 "nbformat": 4,
 "nbformat_minor": 2
}
